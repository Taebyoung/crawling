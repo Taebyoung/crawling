{
 "cells": [
  {
   "cell_type": "code",
   "execution_count": 1,
   "metadata": {},
   "outputs": [],
   "source": [
    "import scrapy\n",
    "from selenium import webdriver\n",
    "from fake_useragent import UserAgent"
   ]
  },
  {
   "cell_type": "code",
   "execution_count": 2,
   "metadata": {},
   "outputs": [
    {
     "name": "stdout",
     "output_type": "stream",
     "text": [
      "Error: scrapy.cfg already exists in /home/ubuntu/python3/notebook/assgn/naverflight\r\n"
     ]
    }
   ],
   "source": [
    "!scrapy startproject naverflight"
   ]
  },
  {
   "cell_type": "markdown",
   "metadata": {},
   "source": [
    "#### 1. items.py 작성"
   ]
  },
  {
   "cell_type": "code",
   "execution_count": 3,
   "metadata": {},
   "outputs": [
    {
     "name": "stdout",
     "output_type": "stream",
     "text": [
      "import scrapy\r\n",
      "\r\n",
      "\r\n",
      "class CrawlerItem(scrapy.Item):\r\n",
      "    now = scrapy.Field() # 크롤링 시각\r\n",
      "    flight = scrapy.Field() # 항공편\r\n",
      "    departure = scrapy.Field() # 출발지\r\n",
      "    tod = scrapy.Field() # 출발시각\r\n",
      "    t_time = scrapy.Field() # 총 비행시간\r\n",
      "    arrival = scrapy.Field() # 도착지\r\n",
      "    toa = scrapy.Field() # 도착시각\r\n",
      "    transfer = scrapy.Field() # 경유 회수\r\n",
      "    price = scrapy.Field() # 항공권 가격\r\n"
     ]
    }
   ],
   "source": [
    "!cat naverflight/naverflight/items.py"
   ]
  },
  {
   "cell_type": "code",
   "execution_count": 4,
   "metadata": {},
   "outputs": [
    {
     "name": "stdout",
     "output_type": "stream",
     "text": [
      "Overwriting naverflight/naverflight/items.py\n"
     ]
    }
   ],
   "source": [
    "%%writefile naverflight/naverflight/items.py\n",
    "import scrapy\n",
    "\n",
    "\n",
    "class CrawlerItem(scrapy.Item):\n",
    "    now = scrapy.Field() # 크롤링 시각\n",
    "    flight = scrapy.Field() # 항공편\n",
    "    departure = scrapy.Field() # 출발지\n",
    "    tod = scrapy.Field() # 출발시각\n",
    "    t_time = scrapy.Field() # 총 비행시간\n",
    "    arrival = scrapy.Field() # 도착지\n",
    "    toa = scrapy.Field() # 도착시각\n",
    "    transfer = scrapy.Field() # 경유 회수\n",
    "    price = scrapy.Field() # 항공권 가격"
   ]
  },
  {
   "cell_type": "markdown",
   "metadata": {},
   "source": [
    "#### 2. spider.py 작성"
   ]
  },
  {
   "cell_type": "code",
   "execution_count": 15,
   "metadata": {},
   "outputs": [
    {
     "name": "stdout",
     "output_type": "stream",
     "text": [
      "Overwriting naverflight/naverflight/spiders/spider.py\n"
     ]
    }
   ],
   "source": [
    "%%writefile naverflight/naverflight/spiders/spider.py\n",
    "import scrapy\n",
    "from naverflight.items import CrawlerItem\n",
    "from selenium import webdriver\n",
    "from fake_useragent import UserAgent\n",
    "import time\n",
    "\n",
    "class Spider(scrapy.Spider): # scrapy.Spider 상속받고\n",
    "    name = \"naverflight\"\n",
    "    allow_domain = [\"naver.com\"] # 이 도메인으로만 크롤링하 겠다. 여러개 작성가능\n",
    "    start_urls = [\"https://flight.naver.com/flights/v2/results?trip=RT&scity1=ICN&ecity1=KEF&scity2=KEF&ecity2=ICN&adult=1&child=0&infant=0&sdate1=2020.02.19.&sdate2=2020.02.25.&fareType=Y\"] # 여러개 가능\n",
    "    \n",
    "    def parse(self, response): #response를 받아서 이 함수를 실행하는 것. 중간과정(request)은 프레임워크안에 있어서 생략\n",
    "        item = CrawlerItem()\n",
    "        options = webdriver.ChromeOptions()\n",
    "        options.add_argument(\"headless\")\n",
    "        options.add_argument(\"user-agent={}\".format(UserAgent().chrome))\n",
    "        driver = webdriver.Chrome(options=options)\n",
    "        url = \"https://flight.naver.com/flights/v2/results?trip=RT&scity1=ICN&ecity1=KEF&scity2=KEF&ecity2=ICN&adult=1&child=0&infant=0&sdate1=2020.02.19.&sdate2=2020.02.25.&fareType=Y\"\n",
    "        driver.get(url)\n",
    "        time.sleep(10)\n",
    "        item[\"now\"] = time.strftime('%Y-%m-%d %H:%M:%S', time.localtime(time.time()))\n",
    "        flight = driver.find_elements_by_css_selector(\".h_result > .ng-binding\")\n",
    "        item[\"flight\"] = flight[0].text\n",
    "        departure = driver.find_elements_by_css_selector(\".box_route > .route_info_box > .route_info > .txt_code\")\n",
    "        item[\"departure\"] = departure[0].text\n",
    "        tod = driver.find_elements_by_css_selector(\".box_route > .route_info_box > .route_info > .txt_time\")\n",
    "        item[\"tod\"] = tod[0].text\n",
    "        t_time = driver.find_elements_by_css_selector(\".box_route > .route_info_box > .route_info.route_info_time > .txt_time\")\n",
    "        item[\"t_time\"] = t_time[0].text\n",
    "        arrival = driver.find_elements_by_css_selector(\".box_route > .route_info_box > .route_info:nth-child(2) > .txt_code\")\n",
    "        item[\"arrival\"] = arrival[0].text\n",
    "        toa = driver.find_elements_by_css_selector(\".box_route > .route_info_box > .route_info:nth-child(2) > .txt_time\")\n",
    "        item[\"toa\"] = toa[0].text\n",
    "        transfer = driver.find_elements_by_css_selector(\".box_info > .txt_way > .btn_pay_terms\")\n",
    "        item[\"transfer\"] = transfer[0].text\n",
    "        price = driver.find_elements_by_css_selector(\".txt_bill > .txt_total > .ng-binding\")\n",
    "        item[\"price\"] = price[0].text\n",
    "        driver.quit()\n",
    "        yield item"
   ]
  },
  {
   "cell_type": "markdown",
   "metadata": {},
   "source": [
    "#### 3. Scrapy 실행"
   ]
  },
  {
   "cell_type": "code",
   "execution_count": 16,
   "metadata": {},
   "outputs": [
    {
     "name": "stdout",
     "output_type": "stream",
     "text": [
      "Overwriting run.sh\n"
     ]
    }
   ],
   "source": [
    "%%writefile run.sh\n",
    "#!/bin/bash\n",
    "cd ~/python3/notebook/assgn/naverflight\n",
    "scrapy crawl naverflight -o naverflight.csv"
   ]
  },
  {
   "cell_type": "code",
   "execution_count": 17,
   "metadata": {},
   "outputs": [],
   "source": [
    "!chmod +x run.sh"
   ]
  },
  {
   "cell_type": "code",
   "execution_count": 18,
   "metadata": {},
   "outputs": [
    {
     "name": "stdout",
     "output_type": "stream",
     "text": [
      "# Obey robots.txt rules\r\n",
      "ROBOTSTXT_OBEY = False\r\n",
      "\r\n",
      "# Configure maximum concurrent requests performed by Scrapy (default: 16)\r\n",
      "#CONCURRENT_REQUESTS = 32\r\n"
     ]
    }
   ],
   "source": [
    "!head -n 25 naverflight/naverflight/settings.py | tail -n 5"
   ]
  },
  {
   "cell_type": "code",
   "execution_count": 19,
   "metadata": {},
   "outputs": [],
   "source": [
    "!sed -i 's/ROBOTSTXT_OBEY = True/ROBOTSTXT_OBEY = False/' naverflight/naverflight/settings.py"
   ]
  },
  {
   "cell_type": "code",
   "execution_count": 27,
   "metadata": {
    "collapsed": true
   },
   "outputs": [
    {
     "name": "stdout",
     "output_type": "stream",
     "text": [
      "2019-12-10 13:35:45 [scrapy.utils.log] INFO: Scrapy 1.8.0 started (bot: naverflight)\n",
      "2019-12-10 13:35:45 [scrapy.utils.log] INFO: Versions: lxml 4.4.1.0, libxml2 2.9.9, cssselect 1.1.0, parsel 1.5.2, w3lib 1.21.0, Twisted 19.10.0, Python 3.6.9 (default, Oct 24 2019, 05:23:50) - [GCC 7.4.0], pyOpenSSL 19.1.0 (OpenSSL 1.1.1d  10 Sep 2019), cryptography 2.8, Platform Linux-4.15.0-1054-aws-x86_64-with-debian-buster-sid\n",
      "2019-12-10 13:35:45 [scrapy.crawler] INFO: Overridden settings: {'BOT_NAME': 'naverflight', 'FEED_FORMAT': 'csv', 'FEED_URI': 'naverflight.csv', 'NEWSPIDER_MODULE': 'naverflight.spiders', 'SPIDER_MODULES': ['naverflight.spiders']}\n",
      "2019-12-10 13:35:46 [scrapy.extensions.telnet] INFO: Telnet Password: 7c3a6c36cc0cbcda\n",
      "2019-12-10 13:35:46 [scrapy.middleware] INFO: Enabled extensions:\n",
      "['scrapy.extensions.corestats.CoreStats',\n",
      " 'scrapy.extensions.telnet.TelnetConsole',\n",
      " 'scrapy.extensions.memusage.MemoryUsage',\n",
      " 'scrapy.extensions.feedexport.FeedExporter',\n",
      " 'scrapy.extensions.logstats.LogStats']\n",
      "2019-12-10 13:35:46 [scrapy.middleware] INFO: Enabled downloader middlewares:\n",
      "['scrapy.downloadermiddlewares.httpauth.HttpAuthMiddleware',\n",
      " 'scrapy.downloadermiddlewares.downloadtimeout.DownloadTimeoutMiddleware',\n",
      " 'scrapy.downloadermiddlewares.defaultheaders.DefaultHeadersMiddleware',\n",
      " 'scrapy.downloadermiddlewares.useragent.UserAgentMiddleware',\n",
      " 'scrapy.downloadermiddlewares.retry.RetryMiddleware',\n",
      " 'scrapy.downloadermiddlewares.redirect.MetaRefreshMiddleware',\n",
      " 'scrapy.downloadermiddlewares.httpcompression.HttpCompressionMiddleware',\n",
      " 'scrapy.downloadermiddlewares.redirect.RedirectMiddleware',\n",
      " 'scrapy.downloadermiddlewares.cookies.CookiesMiddleware',\n",
      " 'scrapy.downloadermiddlewares.httpproxy.HttpProxyMiddleware',\n",
      " 'scrapy.downloadermiddlewares.stats.DownloaderStats']\n",
      "2019-12-10 13:35:46 [scrapy.middleware] INFO: Enabled spider middlewares:\n",
      "['scrapy.spidermiddlewares.httperror.HttpErrorMiddleware',\n",
      " 'scrapy.spidermiddlewares.offsite.OffsiteMiddleware',\n",
      " 'scrapy.spidermiddlewares.referer.RefererMiddleware',\n",
      " 'scrapy.spidermiddlewares.urllength.UrlLengthMiddleware',\n",
      " 'scrapy.spidermiddlewares.depth.DepthMiddleware']\n",
      "2019-12-10 13:35:46 [scrapy.middleware] INFO: Enabled item pipelines:\n",
      "['naverflight.pipelines.naverflightPipeline']\n",
      "2019-12-10 13:35:46 [scrapy.core.engine] INFO: Spider opened\n",
      "2019-12-10 13:35:46 [scrapy.extensions.logstats] INFO: Crawled 0 pages (at 0 pages/min), scraped 0 items (at 0 items/min)\n",
      "2019-12-10 13:35:46 [scrapy.extensions.telnet] INFO: Telnet console listening on 127.0.0.1:6023\n",
      "2019-12-10 13:35:46 [scrapy.core.engine] DEBUG: Crawled (200) <GET https://flight.naver.com/flights/v2/results?trip=RT&scity1=ICN&ecity1=KEF&scity2=KEF&ecity2=ICN&adult=1&child=0&infant=0&sdate1=2020.02.19.&sdate2=2020.02.25.&fareType=Y> (referer: None)\n",
      "2019-12-10 13:35:47 [selenium.webdriver.remote.remote_connection] DEBUG: POST http://127.0.0.1:47277/session {\"capabilities\": {\"firstMatch\": [{}], \"alwaysMatch\": {\"browserName\": \"chrome\", \"platformName\": \"any\", \"goog:chromeOptions\": {\"extensions\": [], \"args\": [\"headless\", \"user-agent=Mozilla/5.0 (Windows NT 6.1; WOW64) AppleWebKit/537.17 (KHTML, like Gecko) Chrome/24.0.1312.60 Safari/537.17\"]}}}, \"desiredCapabilities\": {\"browserName\": \"chrome\", \"version\": \"\", \"platform\": \"ANY\", \"goog:chromeOptions\": {\"extensions\": [], \"args\": [\"headless\", \"user-agent=Mozilla/5.0 (Windows NT 6.1; WOW64) AppleWebKit/537.17 (KHTML, like Gecko) Chrome/24.0.1312.60 Safari/537.17\"]}}}\n",
      "2019-12-10 13:35:47 [urllib3.connectionpool] DEBUG: Starting new HTTP connection (1): 127.0.0.1:47277\n",
      "2019-12-10 13:35:48 [urllib3.connectionpool] DEBUG: http://127.0.0.1:47277 \"POST /session HTTP/1.1\" 200 643\n",
      "2019-12-10 13:35:48 [selenium.webdriver.remote.remote_connection] DEBUG: Finished Request\n",
      "2019-12-10 13:35:48 [selenium.webdriver.remote.remote_connection] DEBUG: POST http://127.0.0.1:47277/session/a331b2f47fc49813eb42649ef1fef36d/url {\"url\": \"https://flight.naver.com/flights/v2/results?trip=RT&scity1=ICN&ecity1=KEF&scity2=KEF&ecity2=ICN&adult=1&child=0&infant=0&sdate1=2020.02.19.&sdate2=2020.02.25.&fareType=Y\"}\n",
      "2019-12-10 13:35:50 [urllib3.connectionpool] DEBUG: http://127.0.0.1:47277 \"POST /session/a331b2f47fc49813eb42649ef1fef36d/url HTTP/1.1\" 200 14\n",
      "2019-12-10 13:35:50 [selenium.webdriver.remote.remote_connection] DEBUG: Finished Request\n",
      "2019-12-10 13:36:00 [selenium.webdriver.remote.remote_connection] DEBUG: POST http://127.0.0.1:47277/session/a331b2f47fc49813eb42649ef1fef36d/elements {\"using\": \"css selector\", \"value\": \".h_result > .ng-binding\"}\n",
      "2019-12-10 13:36:00 [urllib3.connectionpool] DEBUG: http://127.0.0.1:47277 \"POST /session/a331b2f47fc49813eb42649ef1fef36d/elements HTTP/1.1\" 200 1591\n",
      "2019-12-10 13:36:00 [selenium.webdriver.remote.remote_connection] DEBUG: Finished Request\n",
      "2019-12-10 13:36:00 [selenium.webdriver.remote.remote_connection] DEBUG: GET http://127.0.0.1:47277/session/a331b2f47fc49813eb42649ef1fef36d/element/5c93f491-85ad-4b91-9154-621c667313f5/text {\"id\": \"5c93f491-85ad-4b91-9154-621c667313f5\"}\n",
      "2019-12-10 13:36:00 [urllib3.connectionpool] DEBUG: http://127.0.0.1:47277 \"GET /session/a331b2f47fc49813eb42649ef1fef36d/element/5c93f491-85ad-4b91-9154-621c667313f5/text HTTP/1.1\" 200 33\n",
      "2019-12-10 13:36:00 [selenium.webdriver.remote.remote_connection] DEBUG: Finished Request\n",
      "2019-12-10 13:36:00 [selenium.webdriver.remote.remote_connection] DEBUG: POST http://127.0.0.1:47277/session/a331b2f47fc49813eb42649ef1fef36d/elements {\"using\": \"css selector\", \"value\": \".box_route > .route_info_box > .route_info > .txt_code\"}\n",
      "2019-12-10 13:36:00 [urllib3.connectionpool] DEBUG: http://127.0.0.1:47277 \"POST /session/a331b2f47fc49813eb42649ef1fef36d/elements HTTP/1.1\" 200 3171\n",
      "2019-12-10 13:36:00 [selenium.webdriver.remote.remote_connection] DEBUG: Finished Request\n",
      "2019-12-10 13:36:00 [selenium.webdriver.remote.remote_connection] DEBUG: GET http://127.0.0.1:47277/session/a331b2f47fc49813eb42649ef1fef36d/element/7fdd1a07-6b5a-4a36-8fd8-ad29956dcd87/text {\"id\": \"7fdd1a07-6b5a-4a36-8fd8-ad29956dcd87\"}\n",
      "2019-12-10 13:36:00 [urllib3.connectionpool] DEBUG: http://127.0.0.1:47277 \"GET /session/a331b2f47fc49813eb42649ef1fef36d/element/7fdd1a07-6b5a-4a36-8fd8-ad29956dcd87/text HTTP/1.1\" 200 15\n",
      "2019-12-10 13:36:00 [selenium.webdriver.remote.remote_connection] DEBUG: Finished Request\n",
      "2019-12-10 13:36:00 [selenium.webdriver.remote.remote_connection] DEBUG: POST http://127.0.0.1:47277/session/a331b2f47fc49813eb42649ef1fef36d/elements {\"using\": \"css selector\", \"value\": \".box_route > .route_info_box > .route_info > .txt_time\"}\n",
      "2019-12-10 13:36:00 [urllib3.connectionpool] DEBUG: http://127.0.0.1:47277 \"POST /session/a331b2f47fc49813eb42649ef1fef36d/elements HTTP/1.1\" 200 4751\n",
      "2019-12-10 13:36:00 [selenium.webdriver.remote.remote_connection] DEBUG: Finished Request\n",
      "2019-12-10 13:36:00 [selenium.webdriver.remote.remote_connection] DEBUG: GET http://127.0.0.1:47277/session/a331b2f47fc49813eb42649ef1fef36d/element/b64c7e43-b816-4bc5-810a-945d7c562743/text {\"id\": \"b64c7e43-b816-4bc5-810a-945d7c562743\"}\n",
      "2019-12-10 13:36:00 [urllib3.connectionpool] DEBUG: http://127.0.0.1:47277 \"GET /session/a331b2f47fc49813eb42649ef1fef36d/element/b64c7e43-b816-4bc5-810a-945d7c562743/text HTTP/1.1\" 200 17\n",
      "2019-12-10 13:36:00 [selenium.webdriver.remote.remote_connection] DEBUG: Finished Request\n",
      "2019-12-10 13:36:00 [selenium.webdriver.remote.remote_connection] DEBUG: POST http://127.0.0.1:47277/session/a331b2f47fc49813eb42649ef1fef36d/elements {\"using\": \"css selector\", \"value\": \".box_route > .route_info_box > .route_info.route_info_time > .txt_time\"}\n",
      "2019-12-10 13:36:00 [urllib3.connectionpool] DEBUG: http://127.0.0.1:47277 \"POST /session/a331b2f47fc49813eb42649ef1fef36d/elements HTTP/1.1\" 200 1591\n",
      "2019-12-10 13:36:00 [selenium.webdriver.remote.remote_connection] DEBUG: Finished Request\n",
      "2019-12-10 13:36:00 [selenium.webdriver.remote.remote_connection] DEBUG: GET http://127.0.0.1:47277/session/a331b2f47fc49813eb42649ef1fef36d/element/b1f6af4c-480f-4364-8390-69ffb46e929d/text {\"id\": \"b1f6af4c-480f-4364-8390-69ffb46e929d\"}\n",
      "2019-12-10 13:36:00 [urllib3.connectionpool] DEBUG: http://127.0.0.1:47277 \"GET /session/a331b2f47fc49813eb42649ef1fef36d/element/b1f6af4c-480f-4364-8390-69ffb46e929d/text HTTP/1.1\" 200 26\n",
      "2019-12-10 13:36:00 [selenium.webdriver.remote.remote_connection] DEBUG: Finished Request\n",
      "2019-12-10 13:36:00 [selenium.webdriver.remote.remote_connection] DEBUG: POST http://127.0.0.1:47277/session/a331b2f47fc49813eb42649ef1fef36d/elements {\"using\": \"css selector\", \"value\": \".box_route > .route_info_box > .route_info:nth-child(2) > .txt_code\"}\n"
     ]
    },
    {
     "name": "stdout",
     "output_type": "stream",
     "text": [
      "2019-12-10 13:36:00 [urllib3.connectionpool] DEBUG: http://127.0.0.1:47277 \"POST /session/a331b2f47fc49813eb42649ef1fef36d/elements HTTP/1.1\" 200 1591\n",
      "2019-12-10 13:36:00 [selenium.webdriver.remote.remote_connection] DEBUG: Finished Request\n",
      "2019-12-10 13:36:00 [selenium.webdriver.remote.remote_connection] DEBUG: GET http://127.0.0.1:47277/session/a331b2f47fc49813eb42649ef1fef36d/element/8e3f3c49-b9ad-495e-89b8-4b19d0e7243d/text {\"id\": \"8e3f3c49-b9ad-495e-89b8-4b19d0e7243d\"}\n",
      "2019-12-10 13:36:00 [urllib3.connectionpool] DEBUG: http://127.0.0.1:47277 \"GET /session/a331b2f47fc49813eb42649ef1fef36d/element/8e3f3c49-b9ad-495e-89b8-4b19d0e7243d/text HTTP/1.1\" 200 15\n",
      "2019-12-10 13:36:00 [selenium.webdriver.remote.remote_connection] DEBUG: Finished Request\n",
      "2019-12-10 13:36:00 [selenium.webdriver.remote.remote_connection] DEBUG: POST http://127.0.0.1:47277/session/a331b2f47fc49813eb42649ef1fef36d/elements {\"using\": \"css selector\", \"value\": \".box_route > .route_info_box > .route_info:nth-child(2) > .txt_time\"}\n",
      "2019-12-10 13:36:00 [urllib3.connectionpool] DEBUG: http://127.0.0.1:47277 \"POST /session/a331b2f47fc49813eb42649ef1fef36d/elements HTTP/1.1\" 200 1591\n",
      "2019-12-10 13:36:00 [selenium.webdriver.remote.remote_connection] DEBUG: Finished Request\n",
      "2019-12-10 13:36:00 [selenium.webdriver.remote.remote_connection] DEBUG: GET http://127.0.0.1:47277/session/a331b2f47fc49813eb42649ef1fef36d/element/faac5854-0d69-4517-bae9-ecbea7e94793/text {\"id\": \"faac5854-0d69-4517-bae9-ecbea7e94793\"}\n",
      "2019-12-10 13:36:00 [urllib3.connectionpool] DEBUG: http://127.0.0.1:47277 \"GET /session/a331b2f47fc49813eb42649ef1fef36d/element/faac5854-0d69-4517-bae9-ecbea7e94793/text HTTP/1.1\" 200 17\n",
      "2019-12-10 13:36:00 [selenium.webdriver.remote.remote_connection] DEBUG: Finished Request\n",
      "2019-12-10 13:36:00 [selenium.webdriver.remote.remote_connection] DEBUG: POST http://127.0.0.1:47277/session/a331b2f47fc49813eb42649ef1fef36d/elements {\"using\": \"css selector\", \"value\": \".box_info > .txt_way > .btn_pay_terms\"}\n",
      "2019-12-10 13:36:00 [urllib3.connectionpool] DEBUG: http://127.0.0.1:47277 \"POST /session/a331b2f47fc49813eb42649ef1fef36d/elements HTTP/1.1\" 200 1591\n",
      "2019-12-10 13:36:00 [selenium.webdriver.remote.remote_connection] DEBUG: Finished Request\n",
      "2019-12-10 13:36:00 [selenium.webdriver.remote.remote_connection] DEBUG: GET http://127.0.0.1:47277/session/a331b2f47fc49813eb42649ef1fef36d/element/a941c9ae-fca3-4389-bca6-16bcbd1b40bd/text {\"id\": \"a941c9ae-fca3-4389-bca6-16bcbd1b40bd\"}\n",
      "2019-12-10 13:36:00 [urllib3.connectionpool] DEBUG: http://127.0.0.1:47277 \"GET /session/a331b2f47fc49813eb42649ef1fef36d/element/a941c9ae-fca3-4389-bca6-16bcbd1b40bd/text HTTP/1.1\" 200 23\n",
      "2019-12-10 13:36:00 [selenium.webdriver.remote.remote_connection] DEBUG: Finished Request\n",
      "2019-12-10 13:36:00 [selenium.webdriver.remote.remote_connection] DEBUG: POST http://127.0.0.1:47277/session/a331b2f47fc49813eb42649ef1fef36d/elements {\"using\": \"css selector\", \"value\": \".txt_bill > .txt_total > .ng-binding\"}\n",
      "2019-12-10 13:36:01 [urllib3.connectionpool] DEBUG: http://127.0.0.1:47277 \"POST /session/a331b2f47fc49813eb42649ef1fef36d/elements HTTP/1.1\" 200 1591\n",
      "2019-12-10 13:36:01 [selenium.webdriver.remote.remote_connection] DEBUG: Finished Request\n",
      "2019-12-10 13:36:01 [selenium.webdriver.remote.remote_connection] DEBUG: GET http://127.0.0.1:47277/session/a331b2f47fc49813eb42649ef1fef36d/element/071a6a4c-0167-4e86-8085-6e490971e503/text {\"id\": \"071a6a4c-0167-4e86-8085-6e490971e503\"}\n",
      "2019-12-10 13:36:01 [urllib3.connectionpool] DEBUG: http://127.0.0.1:47277 \"GET /session/a331b2f47fc49813eb42649ef1fef36d/element/071a6a4c-0167-4e86-8085-6e490971e503/text HTTP/1.1\" 200 19\n",
      "2019-12-10 13:36:01 [selenium.webdriver.remote.remote_connection] DEBUG: Finished Request\n",
      "2019-12-10 13:36:01 [selenium.webdriver.remote.remote_connection] DEBUG: DELETE http://127.0.0.1:47277/session/a331b2f47fc49813eb42649ef1fef36d {}\n",
      "2019-12-10 13:36:01 [urllib3.connectionpool] DEBUG: http://127.0.0.1:47277 \"DELETE /session/a331b2f47fc49813eb42649ef1fef36d HTTP/1.1\" 200 14\n",
      "2019-12-10 13:36:01 [selenium.webdriver.remote.remote_connection] DEBUG: Finished Request\n",
      "2019-12-10 13:36:01 [scrapy.core.scraper] DEBUG: Scraped from <200 https://flight.naver.com/flights/v2/results?trip=RT&scity1=ICN&ecity1=KEF&scity2=KEF&ecity2=ICN&adult=1&child=0&infant=0&sdate1=2020.02.19.&sdate2=2020.02.25.&fareType=Y>\n",
      "{'arrival': 'KEF',\n",
      " 'departure': 'ICN',\n",
      " 'flight': 'KLM네덜란드항공',\n",
      " 'now': '2019-12-10 13:36:00',\n",
      " 'price': '905,200',\n",
      " 't_time': '27시간 10분',\n",
      " 'toa': '19:05',\n",
      " 'tod': '00:55',\n",
      " 'transfer': '경유 1회'}\n",
      "2019-12-10 13:36:01 [scrapy.core.engine] INFO: Closing spider (finished)\n",
      "2019-12-10 13:36:01 [scrapy.extensions.feedexport] INFO: Stored csv feed (1 items) in: naverflight.csv\n",
      "2019-12-10 13:36:01 [scrapy.statscollectors] INFO: Dumping Scrapy stats:\n",
      "{'downloader/request_bytes': 359,\n",
      " 'downloader/request_count': 1,\n",
      " 'downloader/request_method_count/GET': 1,\n",
      " 'downloader/response_bytes': 2575,\n",
      " 'downloader/response_count': 1,\n",
      " 'downloader/response_status_count/200': 1,\n",
      " 'elapsed_time_seconds': 15.2742,\n",
      " 'finish_reason': 'finished',\n",
      " 'finish_time': datetime.datetime(2019, 12, 10, 4, 36, 1, 454158),\n",
      " 'item_scraped_count': 1,\n",
      " 'log_count/DEBUG': 60,\n",
      " 'log_count/INFO': 11,\n",
      " 'memusage/max': 57274368,\n",
      " 'memusage/startup': 57274368,\n",
      " 'response_received_count': 1,\n",
      " 'scheduler/dequeued': 1,\n",
      " 'scheduler/dequeued/memory': 1,\n",
      " 'scheduler/enqueued': 1,\n",
      " 'scheduler/enqueued/memory': 1,\n",
      " 'start_time': datetime.datetime(2019, 12, 10, 4, 35, 46, 179958)}\n",
      "2019-12-10 13:36:01 [scrapy.core.engine] INFO: Spider closed (finished)\n"
     ]
    }
   ],
   "source": [
    "# !./run.sh"
   ]
  },
  {
   "cell_type": "code",
   "execution_count": 28,
   "metadata": {},
   "outputs": [],
   "source": [
    "# import pandas as pd"
   ]
  },
  {
   "cell_type": "code",
   "execution_count": 30,
   "metadata": {
    "collapsed": true
   },
   "outputs": [
    {
     "data": {
      "text/html": [
       "<div>\n",
       "<style scoped>\n",
       "    .dataframe tbody tr th:only-of-type {\n",
       "        vertical-align: middle;\n",
       "    }\n",
       "\n",
       "    .dataframe tbody tr th {\n",
       "        vertical-align: top;\n",
       "    }\n",
       "\n",
       "    .dataframe thead th {\n",
       "        text-align: right;\n",
       "    }\n",
       "</style>\n",
       "<table border=\"1\" class=\"dataframe\">\n",
       "  <thead>\n",
       "    <tr style=\"text-align: right;\">\n",
       "      <th></th>\n",
       "      <th>arrival</th>\n",
       "      <th>departure</th>\n",
       "      <th>flight</th>\n",
       "      <th>now</th>\n",
       "      <th>price</th>\n",
       "      <th>t_time</th>\n",
       "      <th>toa</th>\n",
       "      <th>tod</th>\n",
       "      <th>transfer</th>\n",
       "    </tr>\n",
       "  </thead>\n",
       "  <tbody>\n",
       "    <tr>\n",
       "      <th>2</th>\n",
       "      <td>KEF</td>\n",
       "      <td>ICN</td>\n",
       "      <td>KLM네덜란드항공</td>\n",
       "      <td>2019-12-10 12:32:09</td>\n",
       "      <td>905,200</td>\n",
       "      <td>27시간 10분</td>\n",
       "      <td>19:05</td>\n",
       "      <td>00:55</td>\n",
       "      <td>경유 1회</td>\n",
       "    </tr>\n",
       "    <tr>\n",
       "      <th>3</th>\n",
       "      <td>arrival</td>\n",
       "      <td>departure</td>\n",
       "      <td>flight</td>\n",
       "      <td>now</td>\n",
       "      <td>price</td>\n",
       "      <td>t_time</td>\n",
       "      <td>toa</td>\n",
       "      <td>tod</td>\n",
       "      <td>transfer</td>\n",
       "    </tr>\n",
       "    <tr>\n",
       "      <th>4</th>\n",
       "      <td>KEF</td>\n",
       "      <td>ICN</td>\n",
       "      <td>KLM네덜란드항공</td>\n",
       "      <td>2019-12-10 12:33:11</td>\n",
       "      <td>905,200</td>\n",
       "      <td>27시간 10분</td>\n",
       "      <td>19:05</td>\n",
       "      <td>00:55</td>\n",
       "      <td>경유 1회</td>\n",
       "    </tr>\n",
       "    <tr>\n",
       "      <th>5</th>\n",
       "      <td>arrival</td>\n",
       "      <td>departure</td>\n",
       "      <td>flight</td>\n",
       "      <td>now</td>\n",
       "      <td>price</td>\n",
       "      <td>t_time</td>\n",
       "      <td>toa</td>\n",
       "      <td>tod</td>\n",
       "      <td>transfer</td>\n",
       "    </tr>\n",
       "    <tr>\n",
       "      <th>6</th>\n",
       "      <td>KEF</td>\n",
       "      <td>ICN</td>\n",
       "      <td>KLM네덜란드항공</td>\n",
       "      <td>2019-12-10 13:36:00</td>\n",
       "      <td>905,200</td>\n",
       "      <td>27시간 10분</td>\n",
       "      <td>19:05</td>\n",
       "      <td>00:55</td>\n",
       "      <td>경유 1회</td>\n",
       "    </tr>\n",
       "  </tbody>\n",
       "</table>\n",
       "</div>"
      ],
      "text/plain": [
       "   arrival  departure     flight                  now    price    t_time  \\\n",
       "2      KEF        ICN  KLM네덜란드항공  2019-12-10 12:32:09  905,200  27시간 10분   \n",
       "3  arrival  departure     flight                  now    price    t_time   \n",
       "4      KEF        ICN  KLM네덜란드항공  2019-12-10 12:33:11  905,200  27시간 10분   \n",
       "5  arrival  departure     flight                  now    price    t_time   \n",
       "6      KEF        ICN  KLM네덜란드항공  2019-12-10 13:36:00  905,200  27시간 10분   \n",
       "\n",
       "     toa    tod  transfer  \n",
       "2  19:05  00:55     경유 1회  \n",
       "3    toa    tod  transfer  \n",
       "4  19:05  00:55     경유 1회  \n",
       "5    toa    tod  transfer  \n",
       "6  19:05  00:55     경유 1회  "
      ]
     },
     "execution_count": 30,
     "metadata": {},
     "output_type": "execute_result"
    }
   ],
   "source": [
    "# df = pd.read_csv(\"naverflight/naverflight.csv\")\n",
    "# df.tail()"
   ]
  },
  {
   "cell_type": "markdown",
   "metadata": {},
   "source": [
    "#### 4 .Pipelines 설정\n",
    "- item을 출력하기전에 실행되는 코드를 정의"
   ]
  },
  {
   "cell_type": "code",
   "execution_count": 20,
   "metadata": {},
   "outputs": [
    {
     "name": "stdout",
     "output_type": "stream",
     "text": [
      "Overwriting naverflight/naverflight/mongodb.py\n"
     ]
    }
   ],
   "source": [
    "%%writefile naverflight/naverflight/mongodb.py\n",
    "import pymongo\n",
    "\n",
    "\n",
    "client = pymongo.MongoClient('mongodb://54.180.51.121:27017')\n",
    "db = client.naverflight\n",
    "collection = db.flight"
   ]
  },
  {
   "cell_type": "code",
   "execution_count": 21,
   "metadata": {},
   "outputs": [
    {
     "name": "stdout",
     "output_type": "stream",
     "text": [
      "Overwriting naverflight/naverflight/pipelines.py\n"
     ]
    }
   ],
   "source": [
    "%%writefile naverflight/naverflight/pipelines.py\n",
    "from .mongodb import collection\n",
    "\n",
    "\n",
    "class naverflightPipeline(object):\n",
    "    \n",
    "    def process_item(self, item, spider):\n",
    "        \n",
    "        data = {\"now\":item[\"now\"], \"flight\":item[\"flight\"], \"departure\":item[\"departure\"], \"tod\":item[\"tod\"],  \"t_time\":item[\"t_time\"],  \"arrival\":item[\"arrival\"],  \"toa\":item[\"toa\"],  \"transfer\":item[\"transfer\"],  \"price\":item[\"price\"]}\n",
    "        collection.insert(data)\n",
    "        \n",
    "        return item"
   ]
  },
  {
   "cell_type": "code",
   "execution_count": 22,
   "metadata": {},
   "outputs": [],
   "source": [
    "!echo \"ITEM_PIPELINES = {\" >> naverflight/naverflight/settings.py\n",
    "!echo \"    'naverflight.pipelines.naverflightPipeline' : 300,\" >> naverflight/naverflight/settings.py\n",
    "!echo \"}\" >> naverflight/naverflight/settings.py"
   ]
  },
  {
   "cell_type": "code",
   "execution_count": 23,
   "metadata": {},
   "outputs": [
    {
     "name": "stdout",
     "output_type": "stream",
     "text": [
      "ITEM_PIPELINES = {\r\n",
      "    'naverflight.pipelines.naverflightPipeline' : 300,\r\n",
      "}\r\n"
     ]
    }
   ],
   "source": [
    "!tail -n 3 naverflight/naverflight/settings.py"
   ]
  },
  {
   "cell_type": "code",
   "execution_count": 25,
   "metadata": {
    "collapsed": true
   },
   "outputs": [
    {
     "name": "stdout",
     "output_type": "stream",
     "text": [
      "2019-12-11 00:25:52 [scrapy.utils.log] INFO: Scrapy 1.8.0 started (bot: naverflight)\n",
      "2019-12-11 00:25:52 [scrapy.utils.log] INFO: Versions: lxml 4.4.1.0, libxml2 2.9.9, cssselect 1.1.0, parsel 1.5.2, w3lib 1.21.0, Twisted 19.10.0, Python 3.6.9 (default, Oct 24 2019, 05:23:50) - [GCC 7.4.0], pyOpenSSL 19.1.0 (OpenSSL 1.1.1d  10 Sep 2019), cryptography 2.8, Platform Linux-4.15.0-1054-aws-x86_64-with-debian-buster-sid\n",
      "2019-12-11 00:25:52 [scrapy.crawler] INFO: Overridden settings: {'BOT_NAME': 'naverflight', 'FEED_FORMAT': 'csv', 'FEED_URI': 'naverflight.csv', 'NEWSPIDER_MODULE': 'naverflight.spiders', 'SPIDER_MODULES': ['naverflight.spiders']}\n",
      "2019-12-11 00:25:52 [scrapy.extensions.telnet] INFO: Telnet Password: d2320365694ca246\n",
      "2019-12-11 00:25:52 [scrapy.middleware] INFO: Enabled extensions:\n",
      "['scrapy.extensions.corestats.CoreStats',\n",
      " 'scrapy.extensions.telnet.TelnetConsole',\n",
      " 'scrapy.extensions.memusage.MemoryUsage',\n",
      " 'scrapy.extensions.feedexport.FeedExporter',\n",
      " 'scrapy.extensions.logstats.LogStats']\n",
      "2019-12-11 00:25:52 [scrapy.middleware] INFO: Enabled downloader middlewares:\n",
      "['scrapy.downloadermiddlewares.httpauth.HttpAuthMiddleware',\n",
      " 'scrapy.downloadermiddlewares.downloadtimeout.DownloadTimeoutMiddleware',\n",
      " 'scrapy.downloadermiddlewares.defaultheaders.DefaultHeadersMiddleware',\n",
      " 'scrapy.downloadermiddlewares.useragent.UserAgentMiddleware',\n",
      " 'scrapy.downloadermiddlewares.retry.RetryMiddleware',\n",
      " 'scrapy.downloadermiddlewares.redirect.MetaRefreshMiddleware',\n",
      " 'scrapy.downloadermiddlewares.httpcompression.HttpCompressionMiddleware',\n",
      " 'scrapy.downloadermiddlewares.redirect.RedirectMiddleware',\n",
      " 'scrapy.downloadermiddlewares.cookies.CookiesMiddleware',\n",
      " 'scrapy.downloadermiddlewares.httpproxy.HttpProxyMiddleware',\n",
      " 'scrapy.downloadermiddlewares.stats.DownloaderStats']\n",
      "2019-12-11 00:25:52 [scrapy.middleware] INFO: Enabled spider middlewares:\n",
      "['scrapy.spidermiddlewares.httperror.HttpErrorMiddleware',\n",
      " 'scrapy.spidermiddlewares.offsite.OffsiteMiddleware',\n",
      " 'scrapy.spidermiddlewares.referer.RefererMiddleware',\n",
      " 'scrapy.spidermiddlewares.urllength.UrlLengthMiddleware',\n",
      " 'scrapy.spidermiddlewares.depth.DepthMiddleware']\n",
      "2019-12-11 00:25:52 [scrapy.middleware] INFO: Enabled item pipelines:\n",
      "['naverflight.pipelines.naverflightPipeline']\n",
      "2019-12-11 00:25:52 [scrapy.core.engine] INFO: Spider opened\n",
      "2019-12-11 00:25:52 [scrapy.extensions.logstats] INFO: Crawled 0 pages (at 0 pages/min), scraped 0 items (at 0 items/min)\n",
      "2019-12-11 00:25:52 [scrapy.extensions.telnet] INFO: Telnet console listening on 127.0.0.1:6023\n",
      "2019-12-11 00:25:53 [scrapy.core.engine] DEBUG: Crawled (200) <GET https://flight.naver.com/flights/v2/results?trip=RT&scity1=ICN&ecity1=KEF&scity2=KEF&ecity2=ICN&adult=1&child=0&infant=0&sdate1=2020.02.19.&sdate2=2020.02.25.&fareType=Y> (referer: None)\n",
      "2019-12-11 00:25:54 [selenium.webdriver.remote.remote_connection] DEBUG: POST http://127.0.0.1:41999/session {\"capabilities\": {\"firstMatch\": [{}], \"alwaysMatch\": {\"browserName\": \"chrome\", \"platformName\": \"any\", \"goog:chromeOptions\": {\"extensions\": [], \"args\": [\"headless\", \"user-agent=Mozilla/5.0 (Windows NT 5.1) AppleWebKit/537.36 (KHTML, like Gecko) Chrome/41.0.2224.3 Safari/537.36\"]}}}, \"desiredCapabilities\": {\"browserName\": \"chrome\", \"version\": \"\", \"platform\": \"ANY\", \"goog:chromeOptions\": {\"extensions\": [], \"args\": [\"headless\", \"user-agent=Mozilla/5.0 (Windows NT 5.1) AppleWebKit/537.36 (KHTML, like Gecko) Chrome/41.0.2224.3 Safari/537.36\"]}}}\n",
      "2019-12-11 00:25:54 [urllib3.connectionpool] DEBUG: Starting new HTTP connection (1): 127.0.0.1:41999\n",
      "2019-12-11 00:25:54 [urllib3.connectionpool] DEBUG: http://127.0.0.1:41999 \"POST /session HTTP/1.1\" 200 643\n",
      "2019-12-11 00:25:54 [selenium.webdriver.remote.remote_connection] DEBUG: Finished Request\n",
      "2019-12-11 00:25:54 [selenium.webdriver.remote.remote_connection] DEBUG: POST http://127.0.0.1:41999/session/c38dad77c6ba414b4ea2300eb0ad87ff/url {\"url\": \"https://flight.naver.com/flights/v2/results?trip=RT&scity1=ICN&ecity1=KEF&scity2=KEF&ecity2=ICN&adult=1&child=0&infant=0&sdate1=2020.02.19.&sdate2=2020.02.25.&fareType=Y\"}\n",
      "2019-12-11 00:25:55 [urllib3.connectionpool] DEBUG: http://127.0.0.1:41999 \"POST /session/c38dad77c6ba414b4ea2300eb0ad87ff/url HTTP/1.1\" 200 14\n",
      "2019-12-11 00:25:55 [selenium.webdriver.remote.remote_connection] DEBUG: Finished Request\n",
      "2019-12-11 00:26:05 [selenium.webdriver.remote.remote_connection] DEBUG: POST http://127.0.0.1:41999/session/c38dad77c6ba414b4ea2300eb0ad87ff/elements {\"using\": \"css selector\", \"value\": \".h_result > .ng-binding\"}\n",
      "2019-12-11 00:26:05 [urllib3.connectionpool] DEBUG: http://127.0.0.1:41999 \"POST /session/c38dad77c6ba414b4ea2300eb0ad87ff/elements HTTP/1.1\" 200 1591\n",
      "2019-12-11 00:26:05 [selenium.webdriver.remote.remote_connection] DEBUG: Finished Request\n",
      "2019-12-11 00:26:05 [selenium.webdriver.remote.remote_connection] DEBUG: GET http://127.0.0.1:41999/session/c38dad77c6ba414b4ea2300eb0ad87ff/element/1920b8ed-485a-4c8c-9f8a-45ea35a41ccf/text {\"id\": \"1920b8ed-485a-4c8c-9f8a-45ea35a41ccf\"}\n",
      "2019-12-11 00:26:05 [urllib3.connectionpool] DEBUG: http://127.0.0.1:41999 \"GET /session/c38dad77c6ba414b4ea2300eb0ad87ff/element/1920b8ed-485a-4c8c-9f8a-45ea35a41ccf/text HTTP/1.1\" 200 33\n",
      "2019-12-11 00:26:05 [selenium.webdriver.remote.remote_connection] DEBUG: Finished Request\n",
      "2019-12-11 00:26:05 [selenium.webdriver.remote.remote_connection] DEBUG: POST http://127.0.0.1:41999/session/c38dad77c6ba414b4ea2300eb0ad87ff/elements {\"using\": \"css selector\", \"value\": \".box_route > .route_info_box > .route_info > .txt_code\"}\n",
      "2019-12-11 00:26:05 [urllib3.connectionpool] DEBUG: http://127.0.0.1:41999 \"POST /session/c38dad77c6ba414b4ea2300eb0ad87ff/elements HTTP/1.1\" 200 3171\n",
      "2019-12-11 00:26:05 [selenium.webdriver.remote.remote_connection] DEBUG: Finished Request\n",
      "2019-12-11 00:26:05 [selenium.webdriver.remote.remote_connection] DEBUG: GET http://127.0.0.1:41999/session/c38dad77c6ba414b4ea2300eb0ad87ff/element/2f83ef18-49fa-46c3-bfcb-931e0c6b7973/text {\"id\": \"2f83ef18-49fa-46c3-bfcb-931e0c6b7973\"}\n",
      "2019-12-11 00:26:06 [urllib3.connectionpool] DEBUG: http://127.0.0.1:41999 \"GET /session/c38dad77c6ba414b4ea2300eb0ad87ff/element/2f83ef18-49fa-46c3-bfcb-931e0c6b7973/text HTTP/1.1\" 200 15\n",
      "2019-12-11 00:26:06 [selenium.webdriver.remote.remote_connection] DEBUG: Finished Request\n",
      "2019-12-11 00:26:06 [selenium.webdriver.remote.remote_connection] DEBUG: POST http://127.0.0.1:41999/session/c38dad77c6ba414b4ea2300eb0ad87ff/elements {\"using\": \"css selector\", \"value\": \".box_route > .route_info_box > .route_info > .txt_time\"}\n",
      "2019-12-11 00:26:06 [urllib3.connectionpool] DEBUG: http://127.0.0.1:41999 \"POST /session/c38dad77c6ba414b4ea2300eb0ad87ff/elements HTTP/1.1\" 200 4751\n",
      "2019-12-11 00:26:06 [selenium.webdriver.remote.remote_connection] DEBUG: Finished Request\n",
      "2019-12-11 00:26:06 [selenium.webdriver.remote.remote_connection] DEBUG: GET http://127.0.0.1:41999/session/c38dad77c6ba414b4ea2300eb0ad87ff/element/ce6894b1-3db6-4ce7-a092-c5b01a7c6d06/text {\"id\": \"ce6894b1-3db6-4ce7-a092-c5b01a7c6d06\"}\n",
      "2019-12-11 00:26:06 [urllib3.connectionpool] DEBUG: http://127.0.0.1:41999 \"GET /session/c38dad77c6ba414b4ea2300eb0ad87ff/element/ce6894b1-3db6-4ce7-a092-c5b01a7c6d06/text HTTP/1.1\" 200 17\n",
      "2019-12-11 00:26:06 [selenium.webdriver.remote.remote_connection] DEBUG: Finished Request\n",
      "2019-12-11 00:26:06 [selenium.webdriver.remote.remote_connection] DEBUG: POST http://127.0.0.1:41999/session/c38dad77c6ba414b4ea2300eb0ad87ff/elements {\"using\": \"css selector\", \"value\": \".box_route > .route_info_box > .route_info.route_info_time > .txt_time\"}\n",
      "2019-12-11 00:26:06 [urllib3.connectionpool] DEBUG: http://127.0.0.1:41999 \"POST /session/c38dad77c6ba414b4ea2300eb0ad87ff/elements HTTP/1.1\" 200 1591\n",
      "2019-12-11 00:26:06 [selenium.webdriver.remote.remote_connection] DEBUG: Finished Request\n",
      "2019-12-11 00:26:06 [selenium.webdriver.remote.remote_connection] DEBUG: GET http://127.0.0.1:41999/session/c38dad77c6ba414b4ea2300eb0ad87ff/element/96122915-75d3-4e4c-9b7a-551eed52537b/text {\"id\": \"96122915-75d3-4e4c-9b7a-551eed52537b\"}\n",
      "2019-12-11 00:26:06 [urllib3.connectionpool] DEBUG: http://127.0.0.1:41999 \"GET /session/c38dad77c6ba414b4ea2300eb0ad87ff/element/96122915-75d3-4e4c-9b7a-551eed52537b/text HTTP/1.1\" 200 26\n",
      "2019-12-11 00:26:06 [selenium.webdriver.remote.remote_connection] DEBUG: Finished Request\n",
      "2019-12-11 00:26:06 [selenium.webdriver.remote.remote_connection] DEBUG: POST http://127.0.0.1:41999/session/c38dad77c6ba414b4ea2300eb0ad87ff/elements {\"using\": \"css selector\", \"value\": \".box_route > .route_info_box > .route_info:nth-child(2) > .txt_code\"}\n",
      "2019-12-11 00:26:06 [urllib3.connectionpool] DEBUG: http://127.0.0.1:41999 \"POST /session/c38dad77c6ba414b4ea2300eb0ad87ff/elements HTTP/1.1\" 200 1591\n",
      "2019-12-11 00:26:06 [selenium.webdriver.remote.remote_connection] DEBUG: Finished Request\n",
      "2019-12-11 00:26:06 [selenium.webdriver.remote.remote_connection] DEBUG: GET http://127.0.0.1:41999/session/c38dad77c6ba414b4ea2300eb0ad87ff/element/5cf58514-8e77-44df-b543-90f478922739/text {\"id\": \"5cf58514-8e77-44df-b543-90f478922739\"}\n"
     ]
    },
    {
     "name": "stdout",
     "output_type": "stream",
     "text": [
      "2019-12-11 00:26:06 [urllib3.connectionpool] DEBUG: http://127.0.0.1:41999 \"GET /session/c38dad77c6ba414b4ea2300eb0ad87ff/element/5cf58514-8e77-44df-b543-90f478922739/text HTTP/1.1\" 200 15\n",
      "2019-12-11 00:26:06 [selenium.webdriver.remote.remote_connection] DEBUG: Finished Request\n",
      "2019-12-11 00:26:06 [selenium.webdriver.remote.remote_connection] DEBUG: POST http://127.0.0.1:41999/session/c38dad77c6ba414b4ea2300eb0ad87ff/elements {\"using\": \"css selector\", \"value\": \".box_route > .route_info_box > .route_info:nth-child(2) > .txt_time\"}\n",
      "2019-12-11 00:26:06 [urllib3.connectionpool] DEBUG: http://127.0.0.1:41999 \"POST /session/c38dad77c6ba414b4ea2300eb0ad87ff/elements HTTP/1.1\" 200 1591\n",
      "2019-12-11 00:26:06 [selenium.webdriver.remote.remote_connection] DEBUG: Finished Request\n",
      "2019-12-11 00:26:06 [selenium.webdriver.remote.remote_connection] DEBUG: GET http://127.0.0.1:41999/session/c38dad77c6ba414b4ea2300eb0ad87ff/element/47c9ca18-9d80-4b96-bf47-985bc8969e4a/text {\"id\": \"47c9ca18-9d80-4b96-bf47-985bc8969e4a\"}\n",
      "2019-12-11 00:26:06 [urllib3.connectionpool] DEBUG: http://127.0.0.1:41999 \"GET /session/c38dad77c6ba414b4ea2300eb0ad87ff/element/47c9ca18-9d80-4b96-bf47-985bc8969e4a/text HTTP/1.1\" 200 17\n",
      "2019-12-11 00:26:06 [selenium.webdriver.remote.remote_connection] DEBUG: Finished Request\n",
      "2019-12-11 00:26:06 [selenium.webdriver.remote.remote_connection] DEBUG: POST http://127.0.0.1:41999/session/c38dad77c6ba414b4ea2300eb0ad87ff/elements {\"using\": \"css selector\", \"value\": \".box_info > .txt_way > .btn_pay_terms\"}\n",
      "2019-12-11 00:26:07 [urllib3.connectionpool] DEBUG: http://127.0.0.1:41999 \"POST /session/c38dad77c6ba414b4ea2300eb0ad87ff/elements HTTP/1.1\" 200 1591\n",
      "2019-12-11 00:26:07 [selenium.webdriver.remote.remote_connection] DEBUG: Finished Request\n",
      "2019-12-11 00:26:07 [selenium.webdriver.remote.remote_connection] DEBUG: GET http://127.0.0.1:41999/session/c38dad77c6ba414b4ea2300eb0ad87ff/element/2384a8b4-c0f0-4601-aa8c-d2ed821dfb6e/text {\"id\": \"2384a8b4-c0f0-4601-aa8c-d2ed821dfb6e\"}\n",
      "2019-12-11 00:26:07 [urllib3.connectionpool] DEBUG: http://127.0.0.1:41999 \"GET /session/c38dad77c6ba414b4ea2300eb0ad87ff/element/2384a8b4-c0f0-4601-aa8c-d2ed821dfb6e/text HTTP/1.1\" 200 23\n",
      "2019-12-11 00:26:07 [selenium.webdriver.remote.remote_connection] DEBUG: Finished Request\n",
      "2019-12-11 00:26:07 [selenium.webdriver.remote.remote_connection] DEBUG: POST http://127.0.0.1:41999/session/c38dad77c6ba414b4ea2300eb0ad87ff/elements {\"using\": \"css selector\", \"value\": \".txt_bill > .txt_total > .ng-binding\"}\n",
      "2019-12-11 00:26:07 [urllib3.connectionpool] DEBUG: http://127.0.0.1:41999 \"POST /session/c38dad77c6ba414b4ea2300eb0ad87ff/elements HTTP/1.1\" 200 1591\n",
      "2019-12-11 00:26:07 [selenium.webdriver.remote.remote_connection] DEBUG: Finished Request\n",
      "2019-12-11 00:26:07 [selenium.webdriver.remote.remote_connection] DEBUG: GET http://127.0.0.1:41999/session/c38dad77c6ba414b4ea2300eb0ad87ff/element/af022bcf-800b-4651-8318-af30ed1838e8/text {\"id\": \"af022bcf-800b-4651-8318-af30ed1838e8\"}\n",
      "2019-12-11 00:26:07 [urllib3.connectionpool] DEBUG: http://127.0.0.1:41999 \"GET /session/c38dad77c6ba414b4ea2300eb0ad87ff/element/af022bcf-800b-4651-8318-af30ed1838e8/text HTTP/1.1\" 200 19\n",
      "2019-12-11 00:26:07 [selenium.webdriver.remote.remote_connection] DEBUG: Finished Request\n",
      "2019-12-11 00:26:07 [selenium.webdriver.remote.remote_connection] DEBUG: DELETE http://127.0.0.1:41999/session/c38dad77c6ba414b4ea2300eb0ad87ff {}\n",
      "2019-12-11 00:26:07 [urllib3.connectionpool] DEBUG: http://127.0.0.1:41999 \"DELETE /session/c38dad77c6ba414b4ea2300eb0ad87ff HTTP/1.1\" 200 14\n",
      "2019-12-11 00:26:07 [selenium.webdriver.remote.remote_connection] DEBUG: Finished Request\n",
      "2019-12-11 00:26:07 [scrapy.core.scraper] DEBUG: Scraped from <200 https://flight.naver.com/flights/v2/results?trip=RT&scity1=ICN&ecity1=KEF&scity2=KEF&ecity2=ICN&adult=1&child=0&infant=0&sdate1=2020.02.19.&sdate2=2020.02.25.&fareType=Y>\n",
      "{'arrival': 'KEF',\n",
      " 'departure': 'ICN',\n",
      " 'flight': 'KLM네덜란드항공',\n",
      " 'now': '2019-12-11 00:26:05',\n",
      " 'price': '921,400',\n",
      " 't_time': '27시간 10분',\n",
      " 'toa': '19:05',\n",
      " 'tod': '00:55',\n",
      " 'transfer': '경유 1회'}\n",
      "2019-12-11 00:26:07 [scrapy.core.engine] INFO: Closing spider (finished)\n",
      "2019-12-11 00:26:07 [scrapy.extensions.feedexport] INFO: Stored csv feed (1 items) in: naverflight.csv\n",
      "2019-12-11 00:26:07 [scrapy.statscollectors] INFO: Dumping Scrapy stats:\n",
      "{'downloader/request_bytes': 359,\n",
      " 'downloader/request_count': 1,\n",
      " 'downloader/request_method_count/GET': 1,\n",
      " 'downloader/response_bytes': 2575,\n",
      " 'downloader/response_count': 1,\n",
      " 'downloader/response_status_count/200': 1,\n",
      " 'elapsed_time_seconds': 14.350208,\n",
      " 'finish_reason': 'finished',\n",
      " 'finish_time': datetime.datetime(2019, 12, 10, 15, 26, 7, 125668),\n",
      " 'item_scraped_count': 1,\n",
      " 'log_count/DEBUG': 60,\n",
      " 'log_count/INFO': 11,\n",
      " 'memusage/max': 57114624,\n",
      " 'memusage/startup': 57114624,\n",
      " 'response_received_count': 1,\n",
      " 'scheduler/dequeued': 1,\n",
      " 'scheduler/dequeued/memory': 1,\n",
      " 'scheduler/enqueued': 1,\n",
      " 'scheduler/enqueued/memory': 1,\n",
      " 'start_time': datetime.datetime(2019, 12, 10, 15, 25, 52, 775460)}\n",
      "2019-12-11 00:26:07 [scrapy.core.engine] INFO: Spider closed (finished)\n"
     ]
    }
   ],
   "source": [
    "!./run.sh"
   ]
  },
  {
   "cell_type": "code",
   "execution_count": null,
   "metadata": {},
   "outputs": [],
   "source": []
  }
 ],
 "metadata": {
  "kernelspec": {
   "display_name": "Python 3",
   "language": "python",
   "name": "python3"
  },
  "language_info": {
   "codemirror_mode": {
    "name": "ipython",
    "version": 3
   },
   "file_extension": ".py",
   "mimetype": "text/x-python",
   "name": "python",
   "nbconvert_exporter": "python",
   "pygments_lexer": "ipython3",
   "version": "3.6.9"
  }
 },
 "nbformat": 4,
 "nbformat_minor": 2
}
